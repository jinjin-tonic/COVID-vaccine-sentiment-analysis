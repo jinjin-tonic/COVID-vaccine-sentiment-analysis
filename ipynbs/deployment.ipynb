{
 "cells": [
  {
   "cell_type": "code",
   "execution_count": 3,
   "id": "military-stupid",
   "metadata": {},
   "outputs": [
    {
     "name": "stderr",
     "output_type": "stream",
     "text": [
      "[nltk_data] Downloading package stopwords to\n",
      "[nltk_data]     /Users/jinjin/nltk_data...\n",
      "[nltk_data]   Package stopwords is already up-to-date!\n",
      "[nltk_data] Downloading package punkt to /Users/jinjin/nltk_data...\n",
      "[nltk_data]   Package punkt is already up-to-date!\n"
     ]
    }
   ],
   "source": [
    "from deployment_model.seq_model import SeqModel"
   ]
  },
  {
   "cell_type": "code",
   "execution_count": 6,
   "id": "altered-attention",
   "metadata": {},
   "outputs": [],
   "source": [
    "import torch.nn as nn\n",
    "import torch\n",
    "\n",
    "VOCAB_SIZE = 4613\n",
    "EMBEDDING_SIZE = 100\n",
    "NUM_CLASSES = 3\n",
    "MAX_EPOCHS = 10\n",
    "\n",
    "best_config = {'hidden_size': 302, \n",
    "               'lr': 0.00010769630091763721, \n",
    "               'l2': 2.5888680371842294e-05, \n",
    "               'nonlin': 'tanh', \n",
    "               'dropout': 0.1, \n",
    "               'num_layers': 2, \n",
    "               'mode': 0, \n",
    "               'optimizer': 'Adam', \n",
    "               'momentum': 0.1\n",
    "               }\n",
    "\n",
    "best_model = SeqModel(embedding_size=EMBEDDING_SIZE, \n",
    "                  vocab_size=VOCAB_SIZE, \n",
    "                  output_size=NUM_CLASSES, \n",
    "                  hidden_size=best_config[\"hidden_size\"], \n",
    "                  num_layers=best_config[\"num_layers\"], \n",
    "                  nonlin=best_config[\"nonlin\"],\n",
    "                  dropout_rate=best_config[\"dropout\"],\n",
    "                  mode=best_config[\"mode\"],\n",
    "                  unit=\"gru\",\n",
    "                  more_features=False)\n",
    "# best_model = best_model.to(device)\n",
    "criterion = nn.NLLLoss()\n",
    "if best_config[\"optimizer\"] == \"Adam\":\n",
    "  optimizer = torch.optim.Adam(best_model.parameters(), lr=best_config[\"lr\"], weight_decay=best_config[\"l2\"])\n",
    "else:\n",
    "  optimizer = torch.optim.Adam(best_model.parameters(), lr=best_config[\"lr\"], weight_decay=best_config[\"l2\"])"
   ]
  },
  {
   "cell_type": "code",
   "execution_count": 7,
   "id": "exotic-carter",
   "metadata": {},
   "outputs": [
    {
     "data": {
      "text/plain": [
       "<All keys matched successfully>"
      ]
     },
     "execution_count": 7,
     "metadata": {},
     "output_type": "execute_result"
    }
   ],
   "source": [
    "best_model.load_state_dict(torch.load(\"deployment_model/model_deploy.model\"))"
   ]
  },
  {
   "cell_type": "code",
   "execution_count": 64,
   "id": "prostate-inspiration",
   "metadata": {},
   "outputs": [],
   "source": [
    "new_input = \"I have a cat\""
   ]
  },
  {
   "cell_type": "code",
   "execution_count": null,
   "id": "medical-studio",
   "metadata": {},
   "outputs": [],
   "source": []
  }
 ],
 "metadata": {
  "kernelspec": {
   "display_name": "Python 3",
   "language": "python",
   "name": "python3"
  },
  "language_info": {
   "codemirror_mode": {
    "name": "ipython",
    "version": 3
   },
   "file_extension": ".py",
   "mimetype": "text/x-python",
   "name": "python",
   "nbconvert_exporter": "python",
   "pygments_lexer": "ipython3",
   "version": "3.8.3"
  }
 },
 "nbformat": 4,
 "nbformat_minor": 5
}
